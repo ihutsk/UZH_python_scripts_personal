{
 "cells": [
  {
   "cell_type": "code",
   "execution_count": 1,
   "id": "fa22895e",
   "metadata": {},
   "outputs": [
    {
     "name": "stdout",
     "output_type": "stream",
     "text": [
      "Splitting completed. Chunks created.\n"
     ]
    }
   ],
   "source": [
    "import shutil, os\n",
    "\n",
    "# Read the original file\n",
    "with open('crest_ensemble.xyz', 'r') as file:\n",
    "    lines = file.readlines()\n",
    "\n",
    "# Calculate the number of lines per chunk. This is number of atoms + 2\n",
    "lines_per_chunk = 254\n",
    "\n",
    "# Split the lines into chunks\n",
    "chunks = [lines[i:i + lines_per_chunk] for i in range(0, len(lines), lines_per_chunk)]\n",
    "\n",
    "# Write each chunk into separate files\n",
    "for i, chunk in enumerate(chunks):\n",
    "    with open(f'structure_{i + 1}.xyz', 'w') as file:\n",
    "        file.writelines(chunk)\n",
    "    header_for_b97 = [f'# b97 optimization of strucutre_{i+1}', '#', '! RIJCOSX B97-D4 def2-SV(P) GCP(DFT/SV(P)) OPT',\n",
    "                 '%basis', 'auxJK \"def2/JK\"', 'auxJ \"def2/J\"', 'auxC \"def2-svp/C\"', 'end', '%maxcore 2048', '%PAL NPROCS 30 END', '',\n",
    "                 f'* xyzfile 0 1 structure_{i+1}/structure_{i+1}.xyz', '', '']\n",
    "    with open(f'struc_{i+1}_b97_opt.inp', 'w') as inp:\n",
    "        inp.write('\\n'.join(header_for_b97))\n",
    "    inp.close()\n",
    "    os.mkdir(f'structure_{i + 1}')\n",
    "    shutil.move(f'structure_{i + 1}.xyz', f'structure_{i + 1}\\structure_{i + 1}.xyz')\n",
    "    shutil.move(f'struc_{i+1}_b97_opt.inp', f'structure_{i + 1}\\struc_{i+1}_b97_opt.inp')\n",
    "\n",
    "print(\"Splitting completed. Chunks created.\")\n"
   ]
  }
 ],
 "metadata": {
  "kernelspec": {
   "display_name": "Python 3 (ipykernel)",
   "language": "python",
   "name": "python3"
  },
  "language_info": {
   "codemirror_mode": {
    "name": "ipython",
    "version": 3
   },
   "file_extension": ".py",
   "mimetype": "text/x-python",
   "name": "python",
   "nbconvert_exporter": "python",
   "pygments_lexer": "ipython3",
   "version": "3.9.18"
  }
 },
 "nbformat": 4,
 "nbformat_minor": 5
}
