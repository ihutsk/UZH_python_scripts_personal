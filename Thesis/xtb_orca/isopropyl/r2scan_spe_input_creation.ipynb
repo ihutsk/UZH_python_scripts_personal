{
 "cells": [
  {
   "cell_type": "markdown",
   "id": "3102e964",
   "metadata": {},
   "source": [
    "Quick creation of input files for SPE r2scan"
   ]
  },
  {
   "cell_type": "code",
   "execution_count": 12,
   "id": "d144c888",
   "metadata": {},
   "outputs": [],
   "source": [
    "import os, re, shutil"
   ]
  },
  {
   "cell_type": "code",
   "execution_count": 13,
   "id": "d925b24d",
   "metadata": {},
   "outputs": [],
   "source": [
    "# list of folders\n",
    "folders = []\n",
    "for dr in os.scandir():\n",
    "    if dr.is_dir() and 'structure' in dr.name and 'imaginary' not in dr.name:\n",
    "        folders.append(dr.name)"
   ]
  },
  {
   "cell_type": "code",
   "execution_count": 14,
   "id": "a2f313d2",
   "metadata": {},
   "outputs": [],
   "source": [
    "try:\n",
    "    os.mkdir('spe_inputs')\n",
    "except:\n",
    "    pass"
   ]
  },
  {
   "cell_type": "code",
   "execution_count": 15,
   "id": "e4dcbc99",
   "metadata": {},
   "outputs": [],
   "source": [
    "pattern_xyz = 'struc_[0-9]+_r2scan_opt\\.xyz'"
   ]
  },
  {
   "cell_type": "code",
   "execution_count": 16,
   "id": "b1157460",
   "metadata": {
    "scrolled": true
   },
   "outputs": [],
   "source": [
    "for fol in folders:\n",
    "    os.mkdir(f'spe_inputs/{fol}')\n",
    "    file_name = [i for i in os.listdir(f'{fol}/') if re.findall(pattern_xyz, i)][0]\n",
    "    shutil.copyfile(f'{fol}/{file_name}', f'spe_inputs/{fol}/{file_name}')"
   ]
  }
 ],
 "metadata": {
  "kernelspec": {
   "display_name": "Python 3 (ipykernel)",
   "language": "python",
   "name": "python3"
  },
  "language_info": {
   "codemirror_mode": {
    "name": "ipython",
    "version": 3
   },
   "file_extension": ".py",
   "mimetype": "text/x-python",
   "name": "python",
   "nbconvert_exporter": "python",
   "pygments_lexer": "ipython3",
   "version": "3.9.18"
  }
 },
 "nbformat": 4,
 "nbformat_minor": 5
}
