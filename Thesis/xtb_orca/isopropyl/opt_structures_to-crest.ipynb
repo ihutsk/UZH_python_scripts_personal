{
 "cells": [
  {
   "cell_type": "code",
   "execution_count": 1,
   "id": "e6a0fb66",
   "metadata": {},
   "outputs": [],
   "source": [
    "import os, re, shutil\n",
    "import pandas as pd"
   ]
  },
  {
   "cell_type": "markdown",
   "id": "cad48d94",
   "metadata": {},
   "source": [
    "Enter number of atoms in your structure to `num_atoms`."
   ]
  },
  {
   "cell_type": "code",
   "execution_count": 2,
   "id": "cbc379de",
   "metadata": {},
   "outputs": [],
   "source": [
    "num_atoms = 252\n",
    "\n",
    "\n",
    "df = pd.read_excel('comparison.xlsx')"
   ]
  },
  {
   "cell_type": "code",
   "execution_count": 4,
   "id": "ee8f02fd",
   "metadata": {},
   "outputs": [],
   "source": [
    "# list of folders\n",
    "folders = []\n",
    "for dr in os.scandir():\n",
    "    if dr.is_dir() and 'structure' in dr.name and 'imaginary' not in dr.name:\n",
    "        folders.append(dr.name)"
   ]
  },
  {
   "cell_type": "code",
   "execution_count": 7,
   "id": "0a438756",
   "metadata": {},
   "outputs": [],
   "source": [
    "pattern_xyz = 'struc_[0-9]+_r2scan_opt\\.xyz'"
   ]
  },
  {
   "cell_type": "code",
   "execution_count": 20,
   "id": "cfccf7cb",
   "metadata": {},
   "outputs": [],
   "source": [
    "with open('ensemble.xyz', 'a', encoding='utf-8') as f:\n",
    "    for folder in folders:\n",
    "        xyz_name = [file for file in os.listdir(folder) if re.search(pattern=pattern_xyz, string=file)][0]\n",
    "        with open(f'{folder}/{xyz_name}', 'r', encoding='utf-8') as xyz:\n",
    "            lines = xyz.readlines()\n",
    "            coords = lines[2:]\n",
    "            energy = str(df[df['name'] == folder].iloc[0,5])\n",
    "            f.write(f'{num_atoms}\\n{energy}\\n')\n",
    "            f.write(''.join(coords))\n",
    "                "
   ]
  },
  {
   "cell_type": "code",
   "execution_count": null,
   "id": "d77d91f6",
   "metadata": {},
   "outputs": [],
   "source": []
  }
 ],
 "metadata": {
  "kernelspec": {
   "display_name": "Python 3 (ipykernel)",
   "language": "python",
   "name": "python3"
  },
  "language_info": {
   "codemirror_mode": {
    "name": "ipython",
    "version": 3
   },
   "file_extension": ".py",
   "mimetype": "text/x-python",
   "name": "python",
   "nbconvert_exporter": "python",
   "pygments_lexer": "ipython3",
   "version": "3.9.18"
  }
 },
 "nbformat": 4,
 "nbformat_minor": 5
}
