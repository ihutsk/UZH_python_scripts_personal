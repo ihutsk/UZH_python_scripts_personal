{
 "cells": [
  {
   "cell_type": "code",
   "execution_count": 1,
   "id": "ab021fc8-ee66-4aa3-82d8-83f3733dc358",
   "metadata": {},
   "outputs": [],
   "source": [
    "import pandas as pd\n",
    "import matplotlib.pyplot as plt\n",
    "import seaborn as sns\n",
    "sns.set_context('notebook')"
   ]
  },
  {
   "cell_type": "code",
   "execution_count": 2,
   "id": "6844e5eb-de2a-4fa4-9eda-159419fc2631",
   "metadata": {},
   "outputs": [],
   "source": [
    "df = pd.read_excel('pair_3.xlsx')"
   ]
  },
  {
   "cell_type": "code",
   "execution_count": 3,
   "id": "ddd1c407-01a0-432c-ae8d-4496d607f7de",
   "metadata": {},
   "outputs": [
    {
     "data": {
      "text/html": [
       "<div>\n",
       "<style scoped>\n",
       "    .dataframe tbody tr th:only-of-type {\n",
       "        vertical-align: middle;\n",
       "    }\n",
       "\n",
       "    .dataframe tbody tr th {\n",
       "        vertical-align: top;\n",
       "    }\n",
       "\n",
       "    .dataframe thead th {\n",
       "        text-align: right;\n",
       "    }\n",
       "</style>\n",
       "<table border=\"1\" class=\"dataframe\">\n",
       "  <thead>\n",
       "    <tr style=\"text-align: right;\">\n",
       "      <th></th>\n",
       "      <th>Temp</th>\n",
       "      <th>Time</th>\n",
       "      <th>Mass</th>\n",
       "      <th>Mass_corrected</th>\n",
       "      <th>Correction</th>\n",
       "    </tr>\n",
       "  </thead>\n",
       "  <tbody>\n",
       "    <tr>\n",
       "      <th>0</th>\n",
       "      <td>26.961</td>\n",
       "      <td>1.52</td>\n",
       "      <td>108.91673</td>\n",
       "      <td>99.99779</td>\n",
       "      <td>8.91894</td>\n",
       "    </tr>\n",
       "    <tr>\n",
       "      <th>1</th>\n",
       "      <td>27.029</td>\n",
       "      <td>1.53</td>\n",
       "      <td>108.91894</td>\n",
       "      <td>100.00000</td>\n",
       "      <td>NaN</td>\n",
       "    </tr>\n",
       "    <tr>\n",
       "      <th>2</th>\n",
       "      <td>27.083</td>\n",
       "      <td>1.54</td>\n",
       "      <td>108.92181</td>\n",
       "      <td>100.00287</td>\n",
       "      <td>NaN</td>\n",
       "    </tr>\n",
       "    <tr>\n",
       "      <th>3</th>\n",
       "      <td>27.166</td>\n",
       "      <td>1.55</td>\n",
       "      <td>108.92523</td>\n",
       "      <td>100.00629</td>\n",
       "      <td>NaN</td>\n",
       "    </tr>\n",
       "    <tr>\n",
       "      <th>4</th>\n",
       "      <td>27.218</td>\n",
       "      <td>1.56</td>\n",
       "      <td>108.92909</td>\n",
       "      <td>100.01015</td>\n",
       "      <td>NaN</td>\n",
       "    </tr>\n",
       "  </tbody>\n",
       "</table>\n",
       "</div>"
      ],
      "text/plain": [
       "     Temp  Time       Mass  Mass_corrected  Correction\n",
       "0  26.961  1.52  108.91673        99.99779     8.91894\n",
       "1  27.029  1.53  108.91894       100.00000         NaN\n",
       "2  27.083  1.54  108.92181       100.00287         NaN\n",
       "3  27.166  1.55  108.92523       100.00629         NaN\n",
       "4  27.218  1.56  108.92909       100.01015         NaN"
      ]
     },
     "execution_count": 3,
     "metadata": {},
     "output_type": "execute_result"
    }
   ],
   "source": [
    "df = df[df['Temp']<360]\n",
    "df.head()"
   ]
  },
  {
   "cell_type": "code",
   "execution_count": 9,
   "id": "b0512642-fd14-4500-ab0a-0bb40ebb7502",
   "metadata": {},
   "outputs": [
    {
     "data": {
      "image/png": "[encoded data removed]",
      "text/plain": [
       "<Figure size 400x400 with 1 Axes>"
      ]
     },
     "metadata": {
      "needs_background": "light"
     },
     "output_type": "display_data"
    }
   ],
   "source": [
    "fig, ax = plt.subplots(figsize=(4,4), dpi=100)\n",
    "\n",
    "sns.lineplot(data=df, x='Temp', y='Mass_corrected', color='#1572A1')\n",
    "ax.grid(visible=True, which='major', axis='both', lw=1, c='#d9e2e6')\n",
    "\n",
    "\n",
    "#Labels\n",
    "plt.rcParams[\"font.family\"] = \"sans-serif\"\n",
    "plt.rcParams[\"font.sans-serif\"] = \"arial\"\n",
    "plt.rcParams[\"mathtext.fontset\"] = 'custom'\n",
    "plt.rcParams[\"mathtext.default\"] = 'rm'\n",
    "plt.rcParams[\"mathtext.bf\"] = 'sans:bold'\n",
    "plt.rcParams[\"mathtext.rm\"] = 'sans'\n",
    "label_fonts = {'fontsize': 12}\n",
    "plt.xlabel('Temperature, °C', **label_fonts)\n",
    "plt.ylabel('Mass, %', labelpad=0)\n",
    "\n",
    "plt.ylim(0, 110)\n",
    "plt.xlim(20, 370)\n",
    "\n",
    "plt.savefig('tga_p3_v1.svg', dpi=600, format='svg', bbox_inches='tight')\n",
    "plt.show()"
   ]
  },
  {
   "cell_type": "code",
   "execution_count": 10,
   "id": "9ba7533d-3ed6-4d7a-8339-9089d0abd04f",
   "metadata": {},
   "outputs": [],
   "source": [
    "df = pd.read_excel('Pair_5.xlsx')"
   ]
  },
  {
   "cell_type": "code",
   "execution_count": 11,
   "id": "1fddb781-edef-4766-821b-9728d1ac9a47",
   "metadata": {},
   "outputs": [
    {
     "data": {
      "text/html": [
       "<div>\n",
       "<style scoped>\n",
       "    .dataframe tbody tr th:only-of-type {\n",
       "        vertical-align: middle;\n",
       "    }\n",
       "\n",
       "    .dataframe tbody tr th {\n",
       "        vertical-align: top;\n",
       "    }\n",
       "\n",
       "    .dataframe thead th {\n",
       "        text-align: right;\n",
       "    }\n",
       "</style>\n",
       "<table border=\"1\" class=\"dataframe\">\n",
       "  <thead>\n",
       "    <tr style=\"text-align: right;\">\n",
       "      <th></th>\n",
       "      <th>Temp</th>\n",
       "      <th>Time</th>\n",
       "      <th>Mass</th>\n",
       "      <th>Corrected_mass</th>\n",
       "      <th>Corr</th>\n",
       "    </tr>\n",
       "  </thead>\n",
       "  <tbody>\n",
       "    <tr>\n",
       "      <th>0</th>\n",
       "      <td>27.013</td>\n",
       "      <td>1.54</td>\n",
       "      <td>99.66517</td>\n",
       "      <td>100.00000</td>\n",
       "      <td>0.33483</td>\n",
       "    </tr>\n",
       "    <tr>\n",
       "      <th>1</th>\n",
       "      <td>27.042</td>\n",
       "      <td>1.55</td>\n",
       "      <td>99.64685</td>\n",
       "      <td>99.98168</td>\n",
       "      <td>NaN</td>\n",
       "    </tr>\n",
       "    <tr>\n",
       "      <th>2</th>\n",
       "      <td>27.080</td>\n",
       "      <td>1.56</td>\n",
       "      <td>99.62951</td>\n",
       "      <td>99.96434</td>\n",
       "      <td>NaN</td>\n",
       "    </tr>\n",
       "    <tr>\n",
       "      <th>3</th>\n",
       "      <td>27.097</td>\n",
       "      <td>1.57</td>\n",
       "      <td>99.61314</td>\n",
       "      <td>99.94797</td>\n",
       "      <td>NaN</td>\n",
       "    </tr>\n",
       "    <tr>\n",
       "      <th>4</th>\n",
       "      <td>27.141</td>\n",
       "      <td>1.58</td>\n",
       "      <td>99.59772</td>\n",
       "      <td>99.93255</td>\n",
       "      <td>NaN</td>\n",
       "    </tr>\n",
       "  </tbody>\n",
       "</table>\n",
       "</div>"
      ],
      "text/plain": [
       "     Temp  Time      Mass  Corrected_mass     Corr\n",
       "0  27.013  1.54  99.66517       100.00000  0.33483\n",
       "1  27.042  1.55  99.64685        99.98168      NaN\n",
       "2  27.080  1.56  99.62951        99.96434      NaN\n",
       "3  27.097  1.57  99.61314        99.94797      NaN\n",
       "4  27.141  1.58  99.59772        99.93255      NaN"
      ]
     },
     "execution_count": 11,
     "metadata": {},
     "output_type": "execute_result"
    }
   ],
   "source": [
    "df = df[df['Temp']<360]\n",
    "df.head()"
   ]
  },
  {
   "cell_type": "code",
   "execution_count": 13,
   "id": "1c9aa10b-8875-4c1a-b407-16fe8bf0e2bc",
   "metadata": {},
   "outputs": [
    {
     "data": {
      "image/png": "[encoded data removed]",
      "text/plain": [
       "<Figure size 400x400 with 1 Axes>"
      ]
     },
     "metadata": {
      "needs_background": "light"
     },
     "output_type": "display_data"
    }
   ],
   "source": [
    "fig, ax = plt.subplots(figsize=(4,4), dpi=100)\n",
    "\n",
    "sns.lineplot(data=df, x='Temp', y='Corrected_mass', color='#1572A1')\n",
    "ax.grid(visible=True, which='major', axis='both', lw=1, c='#d9e2e6')\n",
    "\n",
    "\n",
    "#Labels\n",
    "plt.rcParams[\"font.family\"] = \"sans-serif\"\n",
    "plt.rcParams[\"font.sans-serif\"] = \"arial\"\n",
    "plt.rcParams[\"mathtext.fontset\"] = 'custom'\n",
    "plt.rcParams[\"mathtext.default\"] = 'rm'\n",
    "plt.rcParams[\"mathtext.bf\"] = 'sans:bold'\n",
    "plt.rcParams[\"mathtext.rm\"] = 'sans'\n",
    "label_fonts = {'fontsize': 12}\n",
    "plt.xlabel('Temperature, °C', **label_fonts)\n",
    "plt.ylabel('Mass, %', labelpad=0)\n",
    "\n",
    "plt.ylim(0, 110)\n",
    "plt.xlim(20, 370)\n",
    "plt.savefig('tga_p5_v1.svg', dpi=600, format='svg', bbox_inches='tight')\n",
    "plt.show()"
   ]
  },
  {
   "cell_type": "code",
   "execution_count": 14,
   "id": "3a1fbb29-5ca4-46fe-bbce-89c96ef642d6",
   "metadata": {},
   "outputs": [],
   "source": [
    "df = pd.read_excel('Pair_10.xlsx')"
   ]
  },
  {
   "cell_type": "code",
   "execution_count": 15,
   "id": "a1ebd6b4-0021-4216-911e-c1b32affcf21",
   "metadata": {},
   "outputs": [
    {
     "data": {
      "text/html": [
       "<div>\n",
       "<style scoped>\n",
       "    .dataframe tbody tr th:only-of-type {\n",
       "        vertical-align: middle;\n",
       "    }\n",
       "\n",
       "    .dataframe tbody tr th {\n",
       "        vertical-align: top;\n",
       "    }\n",
       "\n",
       "    .dataframe thead th {\n",
       "        text-align: right;\n",
       "    }\n",
       "</style>\n",
       "<table border=\"1\" class=\"dataframe\">\n",
       "  <thead>\n",
       "    <tr style=\"text-align: right;\">\n",
       "      <th></th>\n",
       "      <th>Temp</th>\n",
       "      <th>Time</th>\n",
       "      <th>Mass</th>\n",
       "      <th>Corrected_mass</th>\n",
       "      <th>Corr</th>\n",
       "    </tr>\n",
       "  </thead>\n",
       "  <tbody>\n",
       "    <tr>\n",
       "      <th>0</th>\n",
       "      <td>26.987</td>\n",
       "      <td>1.16</td>\n",
       "      <td>99.10851</td>\n",
       "      <td>100.00000</td>\n",
       "      <td>0.89149</td>\n",
       "    </tr>\n",
       "    <tr>\n",
       "      <th>1</th>\n",
       "      <td>27.047</td>\n",
       "      <td>1.17</td>\n",
       "      <td>99.09496</td>\n",
       "      <td>99.98645</td>\n",
       "      <td>NaN</td>\n",
       "    </tr>\n",
       "    <tr>\n",
       "      <th>2</th>\n",
       "      <td>27.111</td>\n",
       "      <td>1.18</td>\n",
       "      <td>99.08156</td>\n",
       "      <td>99.97305</td>\n",
       "      <td>NaN</td>\n",
       "    </tr>\n",
       "    <tr>\n",
       "      <th>3</th>\n",
       "      <td>27.161</td>\n",
       "      <td>1.19</td>\n",
       "      <td>99.06829</td>\n",
       "      <td>99.95978</td>\n",
       "      <td>NaN</td>\n",
       "    </tr>\n",
       "    <tr>\n",
       "      <th>4</th>\n",
       "      <td>27.206</td>\n",
       "      <td>1.20</td>\n",
       "      <td>99.05515</td>\n",
       "      <td>99.94664</td>\n",
       "      <td>NaN</td>\n",
       "    </tr>\n",
       "  </tbody>\n",
       "</table>\n",
       "</div>"
      ],
      "text/plain": [
       "     Temp  Time      Mass  Corrected_mass     Corr\n",
       "0  26.987  1.16  99.10851       100.00000  0.89149\n",
       "1  27.047  1.17  99.09496        99.98645      NaN\n",
       "2  27.111  1.18  99.08156        99.97305      NaN\n",
       "3  27.161  1.19  99.06829        99.95978      NaN\n",
       "4  27.206  1.20  99.05515        99.94664      NaN"
      ]
     },
     "execution_count": 15,
     "metadata": {},
     "output_type": "execute_result"
    }
   ],
   "source": [
    "df.head()"
   ]
  },
  {
   "cell_type": "code",
   "execution_count": 16,
   "id": "8a2a8d2e-8b57-44cf-b0f3-c98a1a09dd97",
   "metadata": {},
   "outputs": [
    {
     "data": {
      "image/png": "[encoded data removed]",
      "text/plain": [
       "<Figure size 400x400 with 1 Axes>"
      ]
     },
     "metadata": {
      "needs_background": "light"
     },
     "output_type": "display_data"
    }
   ],
   "source": [
    "fig, ax = plt.subplots(figsize=(4,4), dpi=100)\n",
    "\n",
    "sns.lineplot(data=df, x='Temp', y='Corrected_mass', color='#1572A1')\n",
    "ax.grid(visible=True, which='major', axis='both', lw=1, c='#d9e2e6')\n",
    "\n",
    "\n",
    "#Labels\n",
    "plt.rcParams[\"font.family\"] = \"sans-serif\"\n",
    "plt.rcParams[\"font.sans-serif\"] = \"arial\"\n",
    "plt.rcParams[\"mathtext.fontset\"] = 'custom'\n",
    "plt.rcParams[\"mathtext.default\"] = 'rm'\n",
    "plt.rcParams[\"mathtext.bf\"] = 'sans:bold'\n",
    "plt.rcParams[\"mathtext.rm\"] = 'sans'\n",
    "label_fonts = {'fontsize': 12}\n",
    "plt.xlabel('Temperature, °C', **label_fonts)\n",
    "plt.ylabel('Mass, %')\n",
    "\n",
    "plt.ylim(0, 110)\n",
    "plt.xlim(20, 710)\n",
    "plt.savefig('tga_p10_v1.svg', dpi=600, format='svg', bbox_inches='tight')\n",
    "plt.show()"
   ]
  },
  {
   "cell_type": "code",
   "execution_count": 17,
   "id": "554249be-42e7-487b-98cc-4d05f0b2c149",
   "metadata": {},
   "outputs": [],
   "source": [
    "df = pd.read_excel('dsc.xlsx')"
   ]
  },
  {
   "cell_type": "code",
   "execution_count": 18,
   "id": "e6caad15-7bac-45fe-964e-51d12db2c11d",
   "metadata": {},
   "outputs": [
    {
     "data": {
      "text/html": [
       "<div>\n",
       "<style scoped>\n",
       "    .dataframe tbody tr th:only-of-type {\n",
       "        vertical-align: middle;\n",
       "    }\n",
       "\n",
       "    .dataframe tbody tr th {\n",
       "        vertical-align: top;\n",
       "    }\n",
       "\n",
       "    .dataframe thead th {\n",
       "        text-align: right;\n",
       "    }\n",
       "</style>\n",
       "<table border=\"1\" class=\"dataframe\">\n",
       "  <thead>\n",
       "    <tr style=\"text-align: right;\">\n",
       "      <th></th>\n",
       "      <th>Temp</th>\n",
       "      <th>Time</th>\n",
       "      <th>DSC</th>\n",
       "      <th>sens</th>\n",
       "      <th>Mass</th>\n",
       "      <th>Corrected_mass</th>\n",
       "      <th>Corr</th>\n",
       "    </tr>\n",
       "  </thead>\n",
       "  <tbody>\n",
       "    <tr>\n",
       "      <th>0</th>\n",
       "      <td>27.064</td>\n",
       "      <td>1.22</td>\n",
       "      <td>-1.01834</td>\n",
       "      <td>1.0</td>\n",
       "      <td>96.76961</td>\n",
       "      <td>100.0</td>\n",
       "      <td>3.23039</td>\n",
       "    </tr>\n",
       "    <tr>\n",
       "      <th>1</th>\n",
       "      <td>27.120</td>\n",
       "      <td>1.23</td>\n",
       "      <td>-1.02348</td>\n",
       "      <td>1.0</td>\n",
       "      <td>96.76961</td>\n",
       "      <td>100.0</td>\n",
       "      <td>NaN</td>\n",
       "    </tr>\n",
       "    <tr>\n",
       "      <th>2</th>\n",
       "      <td>27.183</td>\n",
       "      <td>1.24</td>\n",
       "      <td>-1.02727</td>\n",
       "      <td>1.0</td>\n",
       "      <td>96.76961</td>\n",
       "      <td>100.0</td>\n",
       "      <td>NaN</td>\n",
       "    </tr>\n",
       "    <tr>\n",
       "      <th>3</th>\n",
       "      <td>27.263</td>\n",
       "      <td>1.25</td>\n",
       "      <td>-1.02998</td>\n",
       "      <td>1.0</td>\n",
       "      <td>96.76961</td>\n",
       "      <td>100.0</td>\n",
       "      <td>NaN</td>\n",
       "    </tr>\n",
       "    <tr>\n",
       "      <th>4</th>\n",
       "      <td>27.327</td>\n",
       "      <td>1.26</td>\n",
       "      <td>-1.03377</td>\n",
       "      <td>1.0</td>\n",
       "      <td>96.76961</td>\n",
       "      <td>100.0</td>\n",
       "      <td>NaN</td>\n",
       "    </tr>\n",
       "  </tbody>\n",
       "</table>\n",
       "</div>"
      ],
      "text/plain": [
       "     Temp  Time      DSC  sens      Mass  Corrected_mass     Corr\n",
       "0  27.064  1.22 -1.01834   1.0  96.76961           100.0  3.23039\n",
       "1  27.120  1.23 -1.02348   1.0  96.76961           100.0      NaN\n",
       "2  27.183  1.24 -1.02727   1.0  96.76961           100.0      NaN\n",
       "3  27.263  1.25 -1.02998   1.0  96.76961           100.0      NaN\n",
       "4  27.327  1.26 -1.03377   1.0  96.76961           100.0      NaN"
      ]
     },
     "execution_count": 18,
     "metadata": {},
     "output_type": "execute_result"
    }
   ],
   "source": [
    "df.head()"
   ]
  },
  {
   "cell_type": "code",
   "execution_count": 19,
   "id": "8b13dcec-7adf-4434-938b-cbdd9533d055",
   "metadata": {},
   "outputs": [
    {
     "data": {
      "image/png": "[encoded data removed]",
      "text/plain": [
       "<Figure size 400x400 with 2 Axes>"
      ]
     },
     "metadata": {
      "needs_background": "light"
     },
     "output_type": "display_data"
    }
   ],
   "source": [
    "fig, ax = plt.subplots(figsize=(4,4), dpi=100)\n",
    "\n",
    "sns.lineplot(data=df, x='Temp', y='Corrected_mass', ax=ax, color='#1572A1')\n",
    "ax.grid(visible=True, which='major', axis='both', lw=1, c='#d9e2e6')\n",
    "\n",
    "\n",
    "#Labels\n",
    "plt.rcParams[\"font.family\"] = \"sans-serif\"\n",
    "plt.rcParams[\"font.sans-serif\"] = \"arial\"\n",
    "plt.rcParams[\"mathtext.fontset\"] = 'custom'\n",
    "plt.rcParams[\"mathtext.default\"] = 'rm'\n",
    "plt.rcParams[\"mathtext.bf\"] = 'sans:bold'\n",
    "plt.rcParams[\"mathtext.rm\"] = 'sans'\n",
    "label_fonts = {'fontsize': 12}\n",
    "plt.xlabel('Temperature, °C', **label_fonts)\n",
    "plt.ylabel('Mass, %')\n",
    "\n",
    "plt.ylim(0, 110)\n",
    "plt.xlim(20, 520)\n",
    "\n",
    "ax2 = ax.twinx()\n",
    "\n",
    "sns.lineplot(data=df, x='Temp', y='DSC', ax=ax2, color='#fe6156')\n",
    "ax2.set_ylabel('DSC, $\\mu$V/mg')\n",
    "plt.savefig('dsc_p10_v1.svg', dpi=600, format='svg', bbox_inches='tight')\n",
    "plt.show()"
   ]
  }
 ],
 "metadata": {
  "kernelspec": {
   "display_name": "Python 3 (ipykernel)",
   "language": "python",
   "name": "python3"
  },
  "language_info": {
   "codemirror_mode": {
    "name": "ipython",
    "version": 3
   },
   "file_extension": ".py",
   "mimetype": "text/x-python",
   "name": "python",
   "nbconvert_exporter": "python",
   "pygments_lexer": "ipython3",
   "version": "3.9.7"
  }
 },
 "nbformat": 4,
 "nbformat_minor": 5
}
