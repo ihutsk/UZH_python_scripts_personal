{
 "cells": [
  {
   "cell_type": "code",
   "execution_count": 1,
   "id": "171d7aa5-5773-4f10-8fd5-2e9185e3d9b4",
   "metadata": {},
   "outputs": [],
   "source": [
    "import pandas as pd\n",
    "import matplotlib.pyplot as plt\n",
    "import seaborn as sns\n",
    "sns.set_context('notebook')"
   ]
  },
  {
   "cell_type": "code",
   "execution_count": 2,
   "id": "206f8c2d-b6a3-4ded-bb94-6ac8c652d955",
   "metadata": {},
   "outputs": [],
   "source": [
    "df = pd.read_excel('pair3_overview.xlsx')"
   ]
  },
  {
   "cell_type": "code",
   "execution_count": 3,
   "id": "c50da46d-ffdf-4987-bb71-bae0c9a57064",
   "metadata": {},
   "outputs": [
    {
     "data": {
      "text/plain": [
       "Index(['Name', 'Elst', 'Ind', 'Exch', 'Disp', 'Total'], dtype='object')"
      ]
     },
     "execution_count": 3,
     "metadata": {},
     "output_type": "execute_result"
    }
   ],
   "source": [
    "df.columns"
   ]
  },
  {
   "cell_type": "code",
   "execution_count": 4,
   "id": "a7995336-2023-4ee2-a07a-959cd639f4a0",
   "metadata": {},
   "outputs": [],
   "source": [
    "df = df.T"
   ]
  },
  {
   "cell_type": "code",
   "execution_count": 5,
   "id": "408cfa73-e880-41d3-aa91-2796e41e5936",
   "metadata": {},
   "outputs": [],
   "source": [
    "df.reset_index(inplace=True)"
   ]
  },
  {
   "cell_type": "code",
   "execution_count": 6,
   "id": "512d5e9c-20c2-41ee-9a80-b5f5340a7322",
   "metadata": {},
   "outputs": [],
   "source": [
    "df.columns = df.iloc[0]"
   ]
  },
  {
   "cell_type": "code",
   "execution_count": 7,
   "id": "f48d6c76-8d7b-468f-b8f6-7427eb883ff4",
   "metadata": {},
   "outputs": [],
   "source": [
    "df=df.drop(0, axis=0)"
   ]
  },
  {
   "cell_type": "code",
   "execution_count": 8,
   "id": "2af8e340-69a7-4bca-a297-fd42cc3d707c",
   "metadata": {},
   "outputs": [
    {
     "data": {
      "image/png": "[encoded data removed]",
      "text/plain": [
       "<Figure size 200x500 with 1 Axes>"
      ]
     },
     "metadata": {},
     "output_type": "display_data"
    }
   ],
   "source": [
    "fig, ax = plt.subplots(figsize=(2,5), dpi=100)\n",
    "cc = {'Elst': '#fe6156', 'Exch': '#000000', 'Disp': '#bdbdbd', 'Ind': '#ffffff', 'Total': '#1572A1'}\n",
    "a = '4a_naked' # change the name here according to the excel\n",
    "sns.barplot(x=df['Name'], y=df[a],\n",
    "            order=['Disp', 'Ind', 'Exch', 'Elst', 'Total'],\n",
    "            palette=cc,\n",
    "            edgecolor='black',\n",
    "            linewidth=1.5,\n",
    "            ax=ax,\n",
    "            dodge=False)\n",
    "\n",
    "ax.margins(0.04)\n",
    "# labels\n",
    "plt.rcParams[\"font.family\"] = \"sans-serif\"\n",
    "plt.rcParams[\"font.sans-serif\"] = \"arial\"\n",
    "plt.rcParams[\"mathtext.fontset\"] = 'custom'\n",
    "plt.rcParams[\"mathtext.default\"] = 'rm'\n",
    "plt.rcParams[\"mathtext.bf\"] = 'sans:bold'\n",
    "plt.rcParams[\"mathtext.rm\"] = 'sans'\n",
    "plt.rcParams[\"ytick.labelsize\"] = 12\n",
    "label_fonts = {'fontsize': 14}\n",
    "plt.xlabel('')\n",
    "plt.xticks([])\n",
    "plt.ylabel('')\n",
    "\n",
    "\n",
    "#spines\n",
    "\n",
    "ax.spines['left'].set_linewidth(1.5)\n",
    "ax.spines['top'].set_linewidth(1.5)\n",
    "ax.spines['right'].set_linewidth(1.5)\n",
    "ax.spines['bottom'].set_linewidth(1.5)\n",
    "\n",
    "\n",
    "ax.axhline(y=0, c='black', lw=1.5)\n",
    "#limits\n",
    "\n",
    "plt.ylim(-110, 90)\n",
    "\n",
    "\n",
    "# annotation\n",
    "font_dict = {'fontsize': 10}\n",
    "ax.text(-.5, df.loc[4, a]-10, round(df.loc[4, a], 1), **font_dict)\n",
    "ax.text(0.55, df.loc[2, a]-10, round(df.loc[2, a], 1), **font_dict)\n",
    "ax.text(1.55, df.loc[3, a]+5, round(df.loc[3, a], 1), **font_dict)\n",
    "ax.text(2.35, df.loc[1, a]-10, round(df.loc[1, a], 1), **font_dict)\n",
    "ax.text(3.45, df.loc[5, a]-10, round(df.loc[5, a], 1), **font_dict)\n",
    "\n",
    "plt.savefig(f'pair_{a}.svg', format='svg', dpi=600, bbox_inches='tight')\n",
    "plt.show()"
   ]
  },
  {
   "cell_type": "code",
   "execution_count": 9,
   "id": "4ff0e927-ca4e-4bc8-91db-00630e0be1ad",
   "metadata": {},
   "outputs": [
    {
     "data": {
      "text/html": [
       "<div>\n",
       "<style scoped>\n",
       "    .dataframe tbody tr th:only-of-type {\n",
       "        vertical-align: middle;\n",
       "    }\n",
       "\n",
       "    .dataframe tbody tr th {\n",
       "        vertical-align: top;\n",
       "    }\n",
       "\n",
       "    .dataframe thead th {\n",
       "        text-align: right;\n",
       "    }\n",
       "</style>\n",
       "<table border=\"1\" class=\"dataframe\">\n",
       "  <thead>\n",
       "    <tr style=\"text-align: right;\">\n",
       "      <th></th>\n",
       "      <th>Name</th>\n",
       "      <th>1a</th>\n",
       "      <th>p3</th>\n",
       "      <th>3a_H</th>\n",
       "      <th>3b_noTrip</th>\n",
       "      <th>3c_TripN</th>\n",
       "      <th>3d_TripS</th>\n",
       "      <th>4a</th>\n",
       "      <th>6a</th>\n",
       "      <th>6a_Trip</th>\n",
       "      <th>6a_tBu</th>\n",
       "      <th>6a_naked</th>\n",
       "      <th>4a_naked</th>\n",
       "      <th>4a_Pyr</th>\n",
       "      <th>4a_Sulf</th>\n",
       "    </tr>\n",
       "  </thead>\n",
       "  <tbody>\n",
       "    <tr>\n",
       "      <th>1</th>\n",
       "      <td>Elst</td>\n",
       "      <td>-74.804823</td>\n",
       "      <td>-79.955453</td>\n",
       "      <td>-12.10228</td>\n",
       "      <td>-76.70465</td>\n",
       "      <td>-72.519214</td>\n",
       "      <td>-71.242322</td>\n",
       "      <td>-76.104232</td>\n",
       "      <td>-82.891757</td>\n",
       "      <td>-70.964486</td>\n",
       "      <td>-70.045337</td>\n",
       "      <td>-75.441199</td>\n",
       "      <td>-77.734907</td>\n",
       "      <td>NaN</td>\n",
       "      <td>-70.261407</td>\n",
       "    </tr>\n",
       "    <tr>\n",
       "      <th>2</th>\n",
       "      <td>Ind</td>\n",
       "      <td>-18.731489</td>\n",
       "      <td>-21.038704</td>\n",
       "      <td>-3.679075</td>\n",
       "      <td>-10.850269</td>\n",
       "      <td>-18.643787</td>\n",
       "      <td>-12.34587</td>\n",
       "      <td>-19.479097</td>\n",
       "      <td>-23.320823</td>\n",
       "      <td>-10.038511</td>\n",
       "      <td>-20.275715</td>\n",
       "      <td>-7.863775</td>\n",
       "      <td>-7.732032</td>\n",
       "      <td>NaN</td>\n",
       "      <td>-9.179657</td>\n",
       "    </tr>\n",
       "    <tr>\n",
       "      <th>3</th>\n",
       "      <td>Exch</td>\n",
       "      <td>52.422981</td>\n",
       "      <td>65.444313</td>\n",
       "      <td>37.11125</td>\n",
       "      <td>15.149354</td>\n",
       "      <td>30.739725</td>\n",
       "      <td>16.585714</td>\n",
       "      <td>57.641957</td>\n",
       "      <td>79.173835</td>\n",
       "      <td>16.822438</td>\n",
       "      <td>28.140358</td>\n",
       "      <td>13.091337</td>\n",
       "      <td>15.245943</td>\n",
       "      <td>NaN</td>\n",
       "      <td>15.145562</td>\n",
       "    </tr>\n",
       "    <tr>\n",
       "      <th>4</th>\n",
       "      <td>Disp</td>\n",
       "      <td>-44.478216</td>\n",
       "      <td>-53.909392</td>\n",
       "      <td>-38.24061</td>\n",
       "      <td>-5.792629</td>\n",
       "      <td>-16.444526</td>\n",
       "      <td>-8.958361</td>\n",
       "      <td>-50.564749</td>\n",
       "      <td>-71.692762</td>\n",
       "      <td>-6.967813</td>\n",
       "      <td>-18.228754</td>\n",
       "      <td>-4.013784</td>\n",
       "      <td>-4.737306</td>\n",
       "      <td>NaN</td>\n",
       "      <td>-6.45493</td>\n",
       "    </tr>\n",
       "    <tr>\n",
       "      <th>5</th>\n",
       "      <td>Total</td>\n",
       "      <td>-85.591547</td>\n",
       "      <td>-89.459235</td>\n",
       "      <td>-16.910714</td>\n",
       "      <td>-78.198194</td>\n",
       "      <td>-76.867801</td>\n",
       "      <td>-75.960839</td>\n",
       "      <td>-88.506121</td>\n",
       "      <td>-98.731506</td>\n",
       "      <td>-71.148372</td>\n",
       "      <td>-80.409448</td>\n",
       "      <td>-74.227421</td>\n",
       "      <td>-74.958303</td>\n",
       "      <td>NaN</td>\n",
       "      <td>-70.750432</td>\n",
       "    </tr>\n",
       "  </tbody>\n",
       "</table>\n",
       "</div>"
      ],
      "text/plain": [
       "0   Name         1a         p3       3a_H  3b_noTrip   3c_TripN   3d_TripS  \\\n",
       "1   Elst -74.804823 -79.955453  -12.10228  -76.70465 -72.519214 -71.242322   \n",
       "2    Ind -18.731489 -21.038704  -3.679075 -10.850269 -18.643787  -12.34587   \n",
       "3   Exch  52.422981  65.444313   37.11125  15.149354  30.739725  16.585714   \n",
       "4   Disp -44.478216 -53.909392  -38.24061  -5.792629 -16.444526  -8.958361   \n",
       "5  Total -85.591547 -89.459235 -16.910714 -78.198194 -76.867801 -75.960839   \n",
       "\n",
       "0         4a         6a    6a_Trip     6a_tBu   6a_naked   4a_naked 4a_Pyr  \\\n",
       "1 -76.104232 -82.891757 -70.964486 -70.045337 -75.441199 -77.734907    NaN   \n",
       "2 -19.479097 -23.320823 -10.038511 -20.275715  -7.863775  -7.732032    NaN   \n",
       "3  57.641957  79.173835  16.822438  28.140358  13.091337  15.245943    NaN   \n",
       "4 -50.564749 -71.692762  -6.967813 -18.228754  -4.013784  -4.737306    NaN   \n",
       "5 -88.506121 -98.731506 -71.148372 -80.409448 -74.227421 -74.958303    NaN   \n",
       "\n",
       "0    4a_Sulf  \n",
       "1 -70.261407  \n",
       "2  -9.179657  \n",
       "3  15.145562  \n",
       "4   -6.45493  \n",
       "5 -70.750432  "
      ]
     },
     "execution_count": 9,
     "metadata": {},
     "output_type": "execute_result"
    }
   ],
   "source": [
    "df"
   ]
  },
  {
   "cell_type": "code",
   "execution_count": null,
   "id": "5ddaad81-9306-4325-8f88-ba8c7c4d9f0b",
   "metadata": {},
   "outputs": [],
   "source": []
  }
 ],
 "metadata": {
  "kernelspec": {
   "display_name": "Python 3 (ipykernel)",
   "language": "python",
   "name": "python3"
  },
  "language_info": {
   "codemirror_mode": {
    "name": "ipython",
    "version": 3
   },
   "file_extension": ".py",
   "mimetype": "text/x-python",
   "name": "python",
   "nbconvert_exporter": "python",
   "pygments_lexer": "ipython3",
   "version": "3.9.18"
  }
 },
 "nbformat": 4,
 "nbformat_minor": 5
}
